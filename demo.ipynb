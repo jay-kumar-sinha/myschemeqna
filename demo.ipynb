{
 "cells": [
  {
   "cell_type": "code",
   "execution_count": null,
   "id": "c77c2223",
   "metadata": {},
   "outputs": [],
   "source": [
    "# # MyScheme Portal QA System - Demo Notebook\n",
    "# \n",
    "# This notebook demonstrates the complete workflow of the MyScheme Portal QA System, from data collection to query answering.\n",
    "\n",
    "# ## 1. Setup and Dependencies\n",
    "\n",
    "# In[1]:\n",
    "\n",
    "# Install required packages\n",
    "# !pip install beautifulsoup4 requests pandas tqdm nltk scikit-learn sentence-transformers faiss-cpu torch transformers\n",
    "\n",
    "# Import necessary libraries\n",
    "import os\n",
    "import json\n",
    "import pandas as pd\n",
    "import numpy as np\n",
    "import matplotlib.pyplot as plt\n",
    "from IPython.display import display, HTML\n",
    "import torch\n",
    "from tqdm.notebook import tqdm\n",
    "\n",
    "# Check if CUDA is available\n",
    "print(f\"PyTorch version: {torch.__version__}\")\n",
    "print(f\"CUDA available: {torch.cuda.is_available()}\")\n",
    "if torch.cuda.is_available():\n",
    "    print(f\"CUDA device: {torch.cuda.get_device_name(0)}\")"
   ]
  },
  {
   "cell_type": "code",
   "execution_count": null,
   "id": "68aa6780",
   "metadata": {},
   "outputs": [],
   "source": [
    "# ## 2. Data Collection: Web Scraping\n",
    "\n",
    "# In[2]:\n",
    "\n",
    "# Import the scraper module\n",
    "from scraper import MySchemePortalScraper\n",
    "\n",
    "# Initialize the scraper\n",
    "scraper = MySchemePortalScraper()\n",
    "\n",
    "# Set a smaller limit for demonstration purposes\n",
    "# In a real scenario, we would scrape more schemes\n",
    "demo_limit = 20  # For quick demonstration\n",
    "\n",
    "# Scrape the data\n",
    "schemes = scraper.scrape(limit=demo_limit)\n",
    "\n",
    "# Save the data\n",
    "scraper.save_to_json(\"myscheme_data_demo.json\")\n",
    "scraper.save_to_csv(\"myscheme_data_demo.csv\")\n",
    "\n",
    "# Display sample data\n",
    "pd.DataFrame(schemes[:5]).head()"
   ]
  },
  {
   "cell_type": "code",
   "execution_count": null,
   "id": "e63a9944",
   "metadata": {},
   "outputs": [],
   "source": [
    "# In[3]:\n",
    "\n",
    "# Import the data processor\n",
    "from data_processor import SchemeDataProcessor\n",
    "\n",
    "# Initialize the processor with the demo data\n",
    "processor = SchemeDataProcessor(\"myscheme_data_demo.json\")\n",
    "\n",
    "# Process the data\n",
    "processed_data, chunks = processor.process()\n",
    "\n",
    "# Save the processed data\n",
    "processor.save_processed_data(\"processed_schemes_demo.json\")\n",
    "processor.save_chunks(\"scheme_chunks_demo.json\")\n",
    "\n",
    "# Display sample processed data\n",
    "print(f\"Number of processed schemes: {len(processed_data)}\")\n",
    "print(f\"Number of chunks created: {len(chunks)}\")\n",
    "\n",
    "# Display a sample chunk\n",
    "print(\"\\nSample chunk:\")\n",
    "print(json.dumps(chunks[0], indent=2))"
   ]
  }
 ],
 "metadata": {
  "kernelspec": {
   "display_name": "venv",
   "language": "python",
   "name": "python3"
  },
  "language_info": {
   "codemirror_mode": {
    "name": "ipython",
    "version": 3
   },
   "file_extension": ".py",
   "mimetype": "text/x-python",
   "name": "python",
   "nbconvert_exporter": "python",
   "pygments_lexer": "ipython3",
   "version": "3.10.0"
  }
 },
 "nbformat": 4,
 "nbformat_minor": 5
}
